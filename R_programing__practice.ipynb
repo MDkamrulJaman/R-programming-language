{
  "nbformat": 4,
  "nbformat_minor": 0,
  "metadata": {
    "colab": {
      "provenance": []
    },
    "kernelspec": {
      "name": "ir",
      "display_name": "R"
    },
    "language_info": {
      "name": "R"
    }
  },
  "cells": [
    {
      "cell_type": "code",
      "execution_count": null,
      "metadata": {
        "colab": {
          "base_uri": "https://localhost:8080/",
          "height": 52
        },
        "id": "gYRoCNbFN8eR",
        "outputId": "34a73f7f-fc50-4d2b-e1e9-ab840e3d433d"
      },
      "outputs": [
        {
          "output_type": "display_data",
          "data": {
            "text/html": [
              "'Hello world'"
            ],
            "text/markdown": "'Hello world'",
            "text/latex": "'Hello world'",
            "text/plain": [
              "[1] \"Hello world\""
            ]
          },
          "metadata": {}
        },
        {
          "output_type": "stream",
          "name": "stdout",
          "text": [
            "[1] \"hello world\"\n"
          ]
        }
      ],
      "source": [
        "# show output with print() or without\n",
        "\n",
        "\"Hello world\"\n",
        "\n",
        "print(\"hello world\")\n"
      ]
    },
    {
      "cell_type": "code",
      "source": [
        "# variable\n",
        "\n",
        "name <- \"jaman\"\n",
        "age <- 23\n",
        "\n",
        "# without print\n",
        "name\n",
        "age\n",
        "\n",
        "# with paste\n",
        "paste(\"my name is \", name )\n",
        "\n",
        "# with print\n",
        "print(age)\n",
        "\n",
        "\n",
        "# multiple variable\n",
        "\n",
        "var1 <- var2 <- var3 <- \"Md\"\n",
        "\n",
        "var1\n",
        "var2\n",
        "var3\n",
        "\n",
        "\n",
        "str <-\"My name is Md Jaman. I love all the programming language such as c, c++, python, Java, Js, R to practice.\"\n",
        "\n",
        "cat(str)\n"
      ],
      "metadata": {
        "colab": {
          "base_uri": "https://localhost:8080/",
          "height": 176
        },
        "id": "GxGXfea4carv",
        "outputId": "745191f0-1ce0-4987-e078-7ae8e9d84d47"
      },
      "execution_count": null,
      "outputs": [
        {
          "output_type": "display_data",
          "data": {
            "text/html": [
              "'jaman'"
            ],
            "text/markdown": "'jaman'",
            "text/latex": "'jaman'",
            "text/plain": [
              "[1] \"jaman\""
            ]
          },
          "metadata": {}
        },
        {
          "output_type": "display_data",
          "data": {
            "text/html": [
              "23"
            ],
            "text/markdown": "23",
            "text/latex": "23",
            "text/plain": [
              "[1] 23"
            ]
          },
          "metadata": {}
        },
        {
          "output_type": "display_data",
          "data": {
            "text/html": [
              "<span style=white-space:pre-wrap>'my name is  jaman'</span>"
            ],
            "text/markdown": "<span style=white-space:pre-wrap>'my name is  jaman'</span>",
            "text/latex": "'my name is  jaman'",
            "text/plain": [
              "[1] \"my name is  jaman\""
            ]
          },
          "metadata": {}
        },
        {
          "output_type": "stream",
          "name": "stdout",
          "text": [
            "[1] 23\n"
          ]
        },
        {
          "output_type": "display_data",
          "data": {
            "text/html": [
              "'Md'"
            ],
            "text/markdown": "'Md'",
            "text/latex": "'Md'",
            "text/plain": [
              "[1] \"Md\""
            ]
          },
          "metadata": {}
        },
        {
          "output_type": "display_data",
          "data": {
            "text/html": [
              "'Md'"
            ],
            "text/markdown": "'Md'",
            "text/latex": "'Md'",
            "text/plain": [
              "[1] \"Md\""
            ]
          },
          "metadata": {}
        },
        {
          "output_type": "display_data",
          "data": {
            "text/html": [
              "'Md'"
            ],
            "text/markdown": "'Md'",
            "text/latex": "'Md'",
            "text/plain": [
              "[1] \"Md\""
            ]
          },
          "metadata": {}
        },
        {
          "output_type": "stream",
          "name": "stdout",
          "text": [
            "My name is Md Jaman. I love all the programming language such as c, c++, python, Java, Js, R to practice."
          ]
        }
      ]
    },
    {
      "cell_type": "code",
      "source": [
        "# data types\n",
        "\n",
        "# numeric\n",
        "x <- 10.5\n",
        "class(x)\n",
        "\n",
        "y <- 20\n",
        "class(y)\n",
        "\n",
        "# integer\n",
        "i <- 1000L\n",
        "class(i)\n",
        "\n",
        "# complex (ib + a)\n",
        "c <- 9i + 3\n",
        "class(c)\n",
        "\n",
        "\n",
        "# complex (a + ib)\n",
        "\n",
        "cx <- 3 + 5i\n",
        "class(cx)\n",
        "\n",
        "\n",
        "\n",
        "# character or string\n",
        "char <- \"R is exciting\"\n",
        "class(char)\n",
        "\n",
        "# logical/boolean\n",
        "logic <- TRUE\n",
        "class(logic)\n",
        "\n",
        "\n",
        "# convert data_types\n",
        "\n",
        "complex_to_integer =  as.integer(c)\n",
        "complex_to_integer\n",
        "\n",
        "integer_to_numeric = as.numeric(i)\n",
        "integer_to_numeric\n",
        "\n",
        "integer_to_complex = as.complex(i)\n",
        "integer_to_complex\n"
      ],
      "metadata": {
        "colab": {
          "base_uri": "https://localhost:8080/",
          "height": 225
        },
        "id": "THWi3PtXcyF4",
        "outputId": "2578cf97-f9ef-44a1-ddb0-1d64d8dcdc23"
      },
      "execution_count": null,
      "outputs": [
        {
          "output_type": "display_data",
          "data": {
            "text/html": [
              "'numeric'"
            ],
            "text/markdown": "'numeric'",
            "text/latex": "'numeric'",
            "text/plain": [
              "[1] \"numeric\""
            ]
          },
          "metadata": {}
        },
        {
          "output_type": "display_data",
          "data": {
            "text/html": [
              "'numeric'"
            ],
            "text/markdown": "'numeric'",
            "text/latex": "'numeric'",
            "text/plain": [
              "[1] \"numeric\""
            ]
          },
          "metadata": {}
        },
        {
          "output_type": "display_data",
          "data": {
            "text/html": [
              "'integer'"
            ],
            "text/markdown": "'integer'",
            "text/latex": "'integer'",
            "text/plain": [
              "[1] \"integer\""
            ]
          },
          "metadata": {}
        },
        {
          "output_type": "display_data",
          "data": {
            "text/html": [
              "'complex'"
            ],
            "text/markdown": "'complex'",
            "text/latex": "'complex'",
            "text/plain": [
              "[1] \"complex\""
            ]
          },
          "metadata": {}
        },
        {
          "output_type": "display_data",
          "data": {
            "text/html": [
              "'complex'"
            ],
            "text/markdown": "'complex'",
            "text/latex": "'complex'",
            "text/plain": [
              "[1] \"complex\""
            ]
          },
          "metadata": {}
        },
        {
          "output_type": "display_data",
          "data": {
            "text/html": [
              "'character'"
            ],
            "text/markdown": "'character'",
            "text/latex": "'character'",
            "text/plain": [
              "[1] \"character\""
            ]
          },
          "metadata": {}
        },
        {
          "output_type": "display_data",
          "data": {
            "text/html": [
              "'logical'"
            ],
            "text/markdown": "'logical'",
            "text/latex": "'logical'",
            "text/plain": [
              "[1] \"logical\""
            ]
          },
          "metadata": {}
        },
        {
          "output_type": "stream",
          "name": "stderr",
          "text": [
            "Warning message in eval(expr, envir, enclos):\n",
            "“imaginary parts discarded in coercion”\n"
          ]
        },
        {
          "output_type": "display_data",
          "data": {
            "text/html": [
              "3"
            ],
            "text/markdown": "3",
            "text/latex": "3",
            "text/plain": [
              "[1] 3"
            ]
          },
          "metadata": {}
        },
        {
          "output_type": "display_data",
          "data": {
            "text/html": [
              "1000"
            ],
            "text/markdown": "1000",
            "text/latex": "1000",
            "text/plain": [
              "[1] 1000"
            ]
          },
          "metadata": {}
        },
        {
          "output_type": "display_data",
          "data": {
            "text/html": [
              "1000+0i"
            ],
            "text/markdown": "1000+0i",
            "text/latex": "1000+0i",
            "text/plain": [
              "[1] 1000+0i"
            ]
          },
          "metadata": {}
        }
      ]
    },
    {
      "cell_type": "markdown",
      "source": [
        "#Math and Logical Operators\n"
      ],
      "metadata": {
        "id": "bI8OqYJqj4ow"
      }
    },
    {
      "cell_type": "code",
      "source": [
        "3+6+9\n",
        "3-6-9\n",
        "3*3\n",
        "9/3\n",
        "max(3,6,9,11)\n",
        "\n",
        "min(3,6,9,11)\n",
        "\n",
        "sqrt(81)\n",
        "\n",
        "abs(-6)\n",
        "\n",
        "ceiling(1.4)\n",
        "\n",
        "floor(1.4)\n",
        "\n",
        "# logical operators\n",
        "\n",
        "5 == 5\n",
        "5 != 3\n",
        "5  > 3\n",
        "3  < 5\n",
        "5 >= 3\n",
        "3 <= 5\n",
        "\n",
        "# and\n",
        "5 >= 3 & 3 <= 2\n",
        "\n",
        "# or\n",
        "5 >= 6 | 3 <= 5\n",
        "\n",
        "\n",
        "\n"
      ],
      "metadata": {
        "colab": {
          "base_uri": "https://localhost:8080/",
          "height": 329
        },
        "id": "nAwbZxMzj-Kx",
        "outputId": "c74270ba-8347-4545-e671-6f504eff5e4b"
      },
      "execution_count": null,
      "outputs": [
        {
          "output_type": "display_data",
          "data": {
            "text/html": [
              "18"
            ],
            "text/markdown": "18",
            "text/latex": "18",
            "text/plain": [
              "[1] 18"
            ]
          },
          "metadata": {}
        },
        {
          "output_type": "display_data",
          "data": {
            "text/html": [
              "-12"
            ],
            "text/markdown": "-12",
            "text/latex": "-12",
            "text/plain": [
              "[1] -12"
            ]
          },
          "metadata": {}
        },
        {
          "output_type": "display_data",
          "data": {
            "text/html": [
              "9"
            ],
            "text/markdown": "9",
            "text/latex": "9",
            "text/plain": [
              "[1] 9"
            ]
          },
          "metadata": {}
        },
        {
          "output_type": "display_data",
          "data": {
            "text/html": [
              "3"
            ],
            "text/markdown": "3",
            "text/latex": "3",
            "text/plain": [
              "[1] 3"
            ]
          },
          "metadata": {}
        },
        {
          "output_type": "display_data",
          "data": {
            "text/html": [
              "11"
            ],
            "text/markdown": "11",
            "text/latex": "11",
            "text/plain": [
              "[1] 11"
            ]
          },
          "metadata": {}
        },
        {
          "output_type": "display_data",
          "data": {
            "text/html": [
              "3"
            ],
            "text/markdown": "3",
            "text/latex": "3",
            "text/plain": [
              "[1] 3"
            ]
          },
          "metadata": {}
        },
        {
          "output_type": "display_data",
          "data": {
            "text/html": [
              "9"
            ],
            "text/markdown": "9",
            "text/latex": "9",
            "text/plain": [
              "[1] 9"
            ]
          },
          "metadata": {}
        },
        {
          "output_type": "display_data",
          "data": {
            "text/html": [
              "6"
            ],
            "text/markdown": "6",
            "text/latex": "6",
            "text/plain": [
              "[1] 6"
            ]
          },
          "metadata": {}
        },
        {
          "output_type": "display_data",
          "data": {
            "text/html": [
              "2"
            ],
            "text/markdown": "2",
            "text/latex": "2",
            "text/plain": [
              "[1] 2"
            ]
          },
          "metadata": {}
        },
        {
          "output_type": "display_data",
          "data": {
            "text/html": [
              "1"
            ],
            "text/markdown": "1",
            "text/latex": "1",
            "text/plain": [
              "[1] 1"
            ]
          },
          "metadata": {}
        },
        {
          "output_type": "display_data",
          "data": {
            "text/html": [
              "TRUE"
            ],
            "text/markdown": "TRUE",
            "text/latex": "TRUE",
            "text/plain": [
              "[1] TRUE"
            ]
          },
          "metadata": {}
        },
        {
          "output_type": "display_data",
          "data": {
            "text/html": [
              "TRUE"
            ],
            "text/markdown": "TRUE",
            "text/latex": "TRUE",
            "text/plain": [
              "[1] TRUE"
            ]
          },
          "metadata": {}
        },
        {
          "output_type": "display_data",
          "data": {
            "text/html": [
              "TRUE"
            ],
            "text/markdown": "TRUE",
            "text/latex": "TRUE",
            "text/plain": [
              "[1] TRUE"
            ]
          },
          "metadata": {}
        },
        {
          "output_type": "display_data",
          "data": {
            "text/html": [
              "TRUE"
            ],
            "text/markdown": "TRUE",
            "text/latex": "TRUE",
            "text/plain": [
              "[1] TRUE"
            ]
          },
          "metadata": {}
        },
        {
          "output_type": "display_data",
          "data": {
            "text/html": [
              "TRUE"
            ],
            "text/markdown": "TRUE",
            "text/latex": "TRUE",
            "text/plain": [
              "[1] TRUE"
            ]
          },
          "metadata": {}
        },
        {
          "output_type": "display_data",
          "data": {
            "text/html": [
              "TRUE"
            ],
            "text/markdown": "TRUE",
            "text/latex": "TRUE",
            "text/plain": [
              "[1] TRUE"
            ]
          },
          "metadata": {}
        },
        {
          "output_type": "display_data",
          "data": {
            "text/html": [
              "FALSE"
            ],
            "text/markdown": "FALSE",
            "text/latex": "FALSE",
            "text/plain": [
              "[1] FALSE"
            ]
          },
          "metadata": {}
        },
        {
          "output_type": "display_data",
          "data": {
            "text/html": [
              "TRUE"
            ],
            "text/markdown": "TRUE",
            "text/latex": "TRUE",
            "text/plain": [
              "[1] TRUE"
            ]
          },
          "metadata": {}
        }
      ]
    },
    {
      "cell_type": "markdown",
      "source": [
        "# Conditions with user_input"
      ],
      "metadata": {
        "id": "WobGwRKWlgOD"
      }
    },
    {
      "cell_type": "code",
      "source": [
        "# if- else if- else\n",
        "\n",
        "num_1 = readline(prompt = \"Enter the num1:\");\n",
        "num_1 = as.integer(num_1)\n",
        "\n",
        "\n",
        "num_2 = readline(prompt = \"Enter num2:\");\n",
        "num_2 = as.integer(num_2)\n",
        "\n",
        "\n",
        "if(num_1 > num_2){\n",
        "\n",
        "    print(\"num1 is greather than num2\")\n",
        "\n",
        "# nested if condition\n",
        "\n",
        "     if (num_1 > 20 & num_2 < 20) {\n",
        "\n",
        "    print(\"num1 above 20!\")\n",
        "\n",
        "  } else {\n",
        "\n",
        "    print(\"num2 below 20.\")\n",
        "  }\n",
        "\n",
        "\n",
        " }else if(num_1 == num_2){\n",
        "\n",
        "           print(\"a and b is equal\")\n",
        "\n",
        "      }else {\n",
        "\n",
        "             print(\"num2 is greather than num1\")\n",
        "\n",
        "            }\n",
        "\n",
        "\n",
        "\n",
        "\n",
        "\n",
        "\n"
      ],
      "metadata": {
        "colab": {
          "base_uri": "https://localhost:8080/"
        },
        "id": "fB9Sk7W0qINL",
        "outputId": "472afe5f-873d-46aa-c847-2fcbf6313e93"
      },
      "execution_count": null,
      "outputs": [
        {
          "output_type": "stream",
          "name": "stdout",
          "text": [
            "Enter the num1:21\n",
            "Enter num2:19\n",
            "[1] \"num1 is greather than num2\"\n",
            "[1] \"num1 above 20!\"\n"
          ]
        }
      ]
    },
    {
      "cell_type": "markdown",
      "source": [
        "#Loops"
      ],
      "metadata": {
        "id": "vUyTNeEMT0EJ"
      }
    },
    {
      "cell_type": "code",
      "source": [
        "for(x in 1:10){\n",
        "  print(x)\n",
        "}\n",
        "\n",
        "# for loop with list\n",
        "\n",
        "fruits <- list(\"apple\", \"banana\",\"orange\", \"mango\")\n",
        "\n",
        "for(fruits_name in fruits){\n",
        "\n",
        "# next\n",
        "\n",
        "   if (fruits_name == \"banana\") {\n",
        "    next\n",
        "\n",
        "   }\n",
        "\n",
        "# break\n",
        "\n",
        "  if(fruits_name == \"mango\"){\n",
        "    break\n",
        "  }\n",
        "\n",
        "  print(fruits_name)\n",
        "}\n",
        "\n",
        "\n",
        "# for loop with vector\n",
        "\n",
        "    dice <- c(1,2,3,4,5,6)\n",
        "\n",
        "    for(element in dice){\n",
        "\n",
        "       print(element)\n",
        "\n",
        "    }"
      ],
      "metadata": {
        "colab": {
          "base_uri": "https://localhost:8080/"
        },
        "id": "e5YnU8EfT3DK",
        "outputId": "96dfd067-20ba-4be8-8da2-8128c74e2ff1"
      },
      "execution_count": null,
      "outputs": [
        {
          "output_type": "stream",
          "name": "stdout",
          "text": [
            "[1] 1\n",
            "[1] 2\n",
            "[1] 3\n",
            "[1] 4\n",
            "[1] 5\n",
            "[1] 6\n",
            "[1] 7\n",
            "[1] 8\n",
            "[1] 9\n",
            "[1] 10\n",
            "[1] \"apple\"\n",
            "[1] \"orange\"\n",
            "[1] 1\n",
            "[1] 2\n",
            "[1] 3\n",
            "[1] 4\n",
            "[1] 5\n",
            "[1] 6\n"
          ]
        }
      ]
    },
    {
      "cell_type": "code",
      "source": [
        "dice <- 1:6\n",
        "\n",
        "for(x in dice) {\n",
        "\n",
        "  if (x == 3) {\n",
        "\n",
        "    print(paste(\"dice \", x, \"got it\"))\n",
        "\n",
        "  } else {\n",
        "\n",
        "    print(paste(\"dice \", x, \"not this\"))\n",
        "\n",
        "  }\n",
        "}\n",
        "\n",
        "\n",
        "# nested loop\n",
        "\n",
        "fruits_taste <- list(\"yummy\",\"yellow\",\"tasty\")\n",
        "fruit <- list(\"juice\",\"banana\",\"mango\")\n",
        "\n",
        "\n",
        "for(x in fruit){\n",
        "\n",
        "for( y in fruits_taste){\n",
        "\n",
        "#print with paste\n",
        "  print(paste(x,y))\n",
        "}\n",
        "\n",
        "}"
      ],
      "metadata": {
        "id": "ysf9cimSvLFV",
        "colab": {
          "base_uri": "https://localhost:8080/"
        },
        "outputId": "59f136b5-c9d0-44a5-ff2d-d5719e5550d3"
      },
      "execution_count": null,
      "outputs": [
        {
          "output_type": "stream",
          "name": "stdout",
          "text": [
            "[1] \"dice  1 not this\"\n",
            "[1] \"dice  2 not this\"\n",
            "[1] \"dice  3 got it\"\n",
            "[1] \"dice  4 not this\"\n",
            "[1] \"dice  5 not this\"\n",
            "[1] \"dice  6 not this\"\n",
            "[1] \"juice yummy\"\n",
            "[1] \"juice yellow\"\n",
            "[1] \"juice tasty\"\n",
            "[1] \"banana yummy\"\n",
            "[1] \"banana yellow\"\n",
            "[1] \"banana tasty\"\n",
            "[1] \"mango yummy\"\n",
            "[1] \"mango yellow\"\n",
            "[1] \"mango tasty\"\n"
          ]
        }
      ]
    },
    {
      "cell_type": "markdown",
      "source": [
        "# Function"
      ],
      "metadata": {
        "id": "TdWCLeFfbfft"
      }
    },
    {
      "cell_type": "code",
      "source": [
        "jaman <- function(name, age){\n",
        "\n",
        "paste(\"My name and age is: \", name , age)\n",
        "# paste(\"my age is:\", age)\n",
        "\n",
        "}\n",
        "\n",
        "\n",
        "jaman(\"Md Jaman\", 23)\n"
      ],
      "metadata": {
        "colab": {
          "base_uri": "https://localhost:8080/",
          "height": 34
        },
        "id": "UshxK456bkG4",
        "outputId": "a9fc7f0a-2630-4681-c624-985b45ad1c7a"
      },
      "execution_count": 20,
      "outputs": [
        {
          "output_type": "display_data",
          "data": {
            "text/html": [
              "<span style=white-space:pre-wrap>'My name and age is:  Md Jaman 23'</span>"
            ],
            "text/markdown": "<span style=white-space:pre-wrap>'My name and age is:  Md Jaman 23'</span>",
            "text/latex": "'My name and age is:  Md Jaman 23'",
            "text/plain": [
              "[1] \"My name and age is:  Md Jaman 23\""
            ]
          },
          "metadata": {}
        }
      ]
    },
    {
      "cell_type": "code",
      "source": [
        "# nested function\n",
        "\n",
        " outter_function <- function(x){\n",
        "\n",
        "inner_function <- function(y){\n",
        "\n",
        "a <- x + y\n",
        "return (a)\n",
        "\n",
        "}\n",
        "\n",
        "}\n",
        "\n",
        "\n",
        "\n",
        "value <- outter_function(3)\n",
        "\n",
        "print(value(5))"
      ],
      "metadata": {
        "colab": {
          "base_uri": "https://localhost:8080/"
        },
        "id": "bDRqFk6CjiK8",
        "outputId": "c94e8f5c-83a9-4598-f9fa-442f5d17feb4"
      },
      "execution_count": 24,
      "outputs": [
        {
          "output_type": "stream",
          "name": "stdout",
          "text": [
            "[1] 8\n"
          ]
        }
      ]
    },
    {
      "cell_type": "code",
      "source": [
        "# recursion\n",
        "\n",
        "\n",
        "tri_recursion <- function(k) {\n",
        "  if (k > 0) {\n",
        "    result <- k + tri_recursion(k - 1)\n",
        "    print(result)\n",
        "  } else {\n",
        "    result = 0\n",
        "    return(result)\n",
        "  }\n",
        "}\n",
        "\n",
        "output <- tri_recursion(6)\n",
        "\n",
        "paste(\"the total result is\", output)"
      ],
      "metadata": {
        "colab": {
          "base_uri": "https://localhost:8080/",
          "height": 138
        },
        "id": "SS9D7crKknZk",
        "outputId": "5f875ad7-539c-435f-c7d0-b6cd9a79eb1e"
      },
      "execution_count": 34,
      "outputs": [
        {
          "output_type": "stream",
          "name": "stdout",
          "text": [
            "[1] 1\n",
            "[1] 3\n",
            "[1] 6\n",
            "[1] 10\n",
            "[1] 15\n",
            "[1] 21\n"
          ]
        },
        {
          "output_type": "display_data",
          "data": {
            "text/html": [
              "'the total result is 21'"
            ],
            "text/markdown": "'the total result is 21'",
            "text/latex": "'the total result is 21'",
            "text/plain": [
              "[1] \"the total result is 21\""
            ]
          },
          "metadata": {}
        }
      ]
    },
    {
      "cell_type": "markdown",
      "source": [],
      "metadata": {
        "id": "xPLSmBn9mCel"
      }
    },
    {
      "cell_type": "code",
      "source": [
        "plot(1:10, main=\"My Graph\", xlab=\"The x-axis\", ylab=\"The y axis\")\n",
        "\n",
        "\n",
        "plot(1:10, type=\"l\", lwd=5, lty=3)"
      ],
      "metadata": {
        "colab": {
          "base_uri": "https://localhost:8080/",
          "height": 857
        },
        "id": "RJ7qtRRjmCI-",
        "outputId": "618d3df6-8653-4961-a828-40df8cdd4fb7"
      },
      "execution_count": 37,
      "outputs": [
        {
          "output_type": "display_data",
          "data": {
            "text/plain": [
              "Plot with title “My Graph”"
            ],
            "image/png": "[encoded data removed]"
          },
          "metadata": {
            "image/png": {
              "width": 420,
              "height": 420
            }
          }
        },
        {
          "output_type": "display_data",
          "data": {
            "text/plain": [
              "plot without title"
            ],
            "image/png": "[encoded data removed]"
          },
          "metadata": {
            "image/png": {
              "width": 420,
              "height": 420
            }
          }
        }
      ]
    },
    {
      "cell_type": "code",
      "source": [
        "x <- c(5,7,8,7,2,2,9,4,11,12,9,6)\n",
        "y <- c(99,86,87,88,111,103,87,94,78,77,85,86)\n",
        "\n",
        "plot(x, y, main=\"Observation of Cars\", xlab=\"Car age\", ylab=\"Car speed\")"
      ],
      "metadata": {
        "colab": {
          "base_uri": "https://localhost:8080/",
          "height": 437
        },
        "id": "4QbmoKekmdtQ",
        "outputId": "e03eebd4-dc98-427a-defb-b35ceb1abd33"
      },
      "execution_count": 38,
      "outputs": [
        {
          "output_type": "display_data",
          "data": {
            "text/plain": [
              "Plot with title “Observation of Cars”"
            ],
            "image/png": "[encoded data removed]"
          },
          "metadata": {
            "image/png": {
              "width": 420,
              "height": 420
            }
          }
        }
      ]
    },
    {
      "cell_type": "code",
      "source": [
        "mylabel <- c(\"Apples\", \"Bananas\", \"Cherries\", \"Dates\")\n",
        "\n",
        "colors <- c(\"blue\", \"yellow\", \"green\", \"black\")\n",
        "\n",
        "# pie chart\n",
        "pie(x, label = mylabel, main = \"Pie Chart\", col = colors)\n",
        "\n",
        "# explanation box\n",
        "legend(\"bottomright\", mylabel, fill = colors)"
      ],
      "metadata": {
        "colab": {
          "base_uri": "https://localhost:8080/",
          "height": 437
        },
        "id": "ZvVsz5KymkMx",
        "outputId": "018715c0-54ed-4d08-f967-b1bf1347069e"
      },
      "execution_count": 40,
      "outputs": [
        {
          "output_type": "display_data",
          "data": {
            "text/plain": [
              "Plot with title “Pie Chart”"
            ],
            "image/png": "[encoded data removed]"
          },
          "metadata": {
            "image/png": {
              "width": 420,
              "height": 420
            }
          }
        }
      ]
    },
    {
      "cell_type": "code",
      "source": [
        "x <- c(\"A\", \"B\", \"C\", \"D\")\n",
        "y <- c(2, 4, 6, 8)\n",
        "\n",
        "barplot(y, names.arg = x, width = c(1,2,3,4),col = \"blue\")"
      ],
      "metadata": {
        "colab": {
          "base_uri": "https://localhost:8080/",
          "height": 437
        },
        "id": "-AdDlP7fm5bz",
        "outputId": "72798a26-86fd-4e40-b21a-023c387d65d7"
      },
      "execution_count": 43,
      "outputs": [
        {
          "output_type": "display_data",
          "data": {
            "text/plain": [
              "plot without title"
            ],
            "image/png": "[encoded data removed]"
          },
          "metadata": {
            "image/png": {
              "width": 420,
              "height": 420
            }
          }
        }
      ]
    }
  ]
}